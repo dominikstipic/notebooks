{
 "cells": [
  {
   "cell_type": "code",
   "execution_count": null,
   "metadata": {},
   "outputs": [],
   "source": [
    "from drawdata import draw_scatter\n",
    "import math as m\n",
    "import numpy as np\n",
    "import pandas as pd\n",
    "import matplotlib.pyplot as plt\n",
    "import sys\n",
    "\n",
    "# Manually create a new dataset\n",
    "draw_scatter()"
   ]
  },
  {
   "attachments": {},
   "cell_type": "markdown",
   "metadata": {},
   "source": [
    "# T statistics \n",
    "**Usage**: When we have data from the two population and we want to compare their statistical properties. We don't have any other information aside the sample. \n",
    "\n",
    "**Formula**: $$T(\\hat{\\beta}) = \\frac{\\hat{\\beta} - \\bar{\\beta}}{s.e(\\hat{\\beta})}$$\n",
    "\n",
    "**Description**:  T estimator follows t distribution\n",
    "\n",
    "**Assumptions**: We assume that $X$ is normally distributed  \n"
   ]
  },
  {
   "attachments": {},
   "cell_type": "markdown",
   "metadata": {},
   "source": [
    "## Example: \n",
    "Compare if the two samples have the same means.  "
   ]
  },
  {
   "cell_type": "code",
   "execution_count": null,
   "metadata": {},
   "outputs": [],
   "source": [
    "X1 = pd.read_csv(\"mean-diff.csv\")[\"x\"]\n",
    "X2 = pd.read_csv(\"mean-same.csv\")[\"x\"]\n",
    "\n",
    "_=plt.hist(X1,30)\n",
    "_=plt.hist(X2,30)"
   ]
  },
  {
   "cell_type": "code",
   "execution_count": null,
   "metadata": {},
   "outputs": [],
   "source": [
    "mu1 = X1.mean()\n",
    "mu2 = X2.mean()\n",
    "print(f\"mu1={mu1}, mu2={mu2}\")\n",
    "s1 = X1.std()**2\n",
    "s2 = X2.std()**2\n",
    "n1 = len(X1)\n",
    "n2 = len(X2)\n",
    "\n",
    "(X2.mean() - X1.mean())/ m.sqrt(s1/n1 + s2/n2)"
   ]
  },
  {
   "attachments": {},
   "cell_type": "markdown",
   "metadata": {},
   "source": [
    "Lets calculate the covariance matrix for this dataset. We are expecting that this data will have positive pearson coefficient due to the linear shape of the data.\n"
   ]
  },
  {
   "cell_type": "code",
   "execution_count": 8,
   "metadata": {},
   "outputs": [
    {
     "data": {
      "text/plain": [
       "0      231.980812\n",
       "1      256.444591\n",
       "2      208.471721\n",
       "3      241.257488\n",
       "4      203.468106\n",
       "          ...    \n",
       "610    203.113253\n",
       "611    217.476162\n",
       "612    239.832359\n",
       "613    195.012965\n",
       "614    240.972234\n",
       "Name: x, Length: 615, dtype: float64"
      ]
     },
     "execution_count": 8,
     "metadata": {},
     "output_type": "execute_result"
    }
   ],
   "source": [
    "X1"
   ]
  },
  {
   "cell_type": "code",
   "execution_count": 7,
   "metadata": {},
   "outputs": [
    {
     "ename": "KeyError",
     "evalue": "\"None of [Index(['x', 'y'], dtype='object')] are in the [index]\"",
     "output_type": "error",
     "traceback": [
      "\u001b[0;31m---------------------------------------------------------------------------\u001b[0m",
      "\u001b[0;31mKeyError\u001b[0m                                  Traceback (most recent call last)",
      "Cell \u001b[0;32mIn[7], line 2\u001b[0m\n\u001b[1;32m      1\u001b[0m df \u001b[39m=\u001b[39m X1\n\u001b[0;32m----> 2\u001b[0m X \u001b[39m=\u001b[39m df[[\u001b[39m\"\u001b[39;49m\u001b[39mx\u001b[39;49m\u001b[39m\"\u001b[39;49m, \u001b[39m\"\u001b[39;49m\u001b[39my\u001b[39;49m\u001b[39m\"\u001b[39;49m]]\u001b[39m.\u001b[39mto_numpy()\n\u001b[1;32m      3\u001b[0m corr \u001b[39m=\u001b[39m np\u001b[39m.\u001b[39mcorrcoef(X, rowvar\u001b[39m=\u001b[39m\u001b[39mFalse\u001b[39;00m)\n\u001b[1;32m      4\u001b[0m cov \u001b[39m=\u001b[39m np\u001b[39m.\u001b[39mcov(X, rowvar\u001b[39m=\u001b[39m\u001b[39mFalse\u001b[39;00m)\n",
      "File \u001b[0;32m~/miniconda3/envs/distance/lib/python3.9/site-packages/pandas/core/series.py:1038\u001b[0m, in \u001b[0;36mSeries.__getitem__\u001b[0;34m(self, key)\u001b[0m\n\u001b[1;32m   1035\u001b[0m     key \u001b[39m=\u001b[39m np\u001b[39m.\u001b[39masarray(key, dtype\u001b[39m=\u001b[39m\u001b[39mbool\u001b[39m)\n\u001b[1;32m   1036\u001b[0m     \u001b[39mreturn\u001b[39;00m \u001b[39mself\u001b[39m\u001b[39m.\u001b[39m_get_values(key)\n\u001b[0;32m-> 1038\u001b[0m \u001b[39mreturn\u001b[39;00m \u001b[39mself\u001b[39;49m\u001b[39m.\u001b[39;49m_get_with(key)\n",
      "File \u001b[0;32m~/miniconda3/envs/distance/lib/python3.9/site-packages/pandas/core/series.py:1078\u001b[0m, in \u001b[0;36mSeries._get_with\u001b[0;34m(self, key)\u001b[0m\n\u001b[1;32m   1075\u001b[0m         \u001b[39mreturn\u001b[39;00m \u001b[39mself\u001b[39m\u001b[39m.\u001b[39miloc[key]\n\u001b[1;32m   1077\u001b[0m \u001b[39m# handle the dup indexing case GH#4246\u001b[39;00m\n\u001b[0;32m-> 1078\u001b[0m \u001b[39mreturn\u001b[39;00m \u001b[39mself\u001b[39;49m\u001b[39m.\u001b[39;49mloc[key]\n",
      "File \u001b[0;32m~/miniconda3/envs/distance/lib/python3.9/site-packages/pandas/core/indexing.py:1103\u001b[0m, in \u001b[0;36m_LocationIndexer.__getitem__\u001b[0;34m(self, key)\u001b[0m\n\u001b[1;32m   1100\u001b[0m axis \u001b[39m=\u001b[39m \u001b[39mself\u001b[39m\u001b[39m.\u001b[39maxis \u001b[39mor\u001b[39;00m \u001b[39m0\u001b[39m\n\u001b[1;32m   1102\u001b[0m maybe_callable \u001b[39m=\u001b[39m com\u001b[39m.\u001b[39mapply_if_callable(key, \u001b[39mself\u001b[39m\u001b[39m.\u001b[39mobj)\n\u001b[0;32m-> 1103\u001b[0m \u001b[39mreturn\u001b[39;00m \u001b[39mself\u001b[39;49m\u001b[39m.\u001b[39;49m_getitem_axis(maybe_callable, axis\u001b[39m=\u001b[39;49maxis)\n",
      "File \u001b[0;32m~/miniconda3/envs/distance/lib/python3.9/site-packages/pandas/core/indexing.py:1332\u001b[0m, in \u001b[0;36m_LocIndexer._getitem_axis\u001b[0;34m(self, key, axis)\u001b[0m\n\u001b[1;32m   1329\u001b[0m     \u001b[39mif\u001b[39;00m \u001b[39mhasattr\u001b[39m(key, \u001b[39m\"\u001b[39m\u001b[39mndim\u001b[39m\u001b[39m\"\u001b[39m) \u001b[39mand\u001b[39;00m key\u001b[39m.\u001b[39mndim \u001b[39m>\u001b[39m \u001b[39m1\u001b[39m:\n\u001b[1;32m   1330\u001b[0m         \u001b[39mraise\u001b[39;00m \u001b[39mValueError\u001b[39;00m(\u001b[39m\"\u001b[39m\u001b[39mCannot index with multidimensional key\u001b[39m\u001b[39m\"\u001b[39m)\n\u001b[0;32m-> 1332\u001b[0m     \u001b[39mreturn\u001b[39;00m \u001b[39mself\u001b[39;49m\u001b[39m.\u001b[39;49m_getitem_iterable(key, axis\u001b[39m=\u001b[39;49maxis)\n\u001b[1;32m   1334\u001b[0m \u001b[39m# nested tuple slicing\u001b[39;00m\n\u001b[1;32m   1335\u001b[0m \u001b[39mif\u001b[39;00m is_nested_tuple(key, labels):\n",
      "File \u001b[0;32m~/miniconda3/envs/distance/lib/python3.9/site-packages/pandas/core/indexing.py:1272\u001b[0m, in \u001b[0;36m_LocIndexer._getitem_iterable\u001b[0;34m(self, key, axis)\u001b[0m\n\u001b[1;32m   1269\u001b[0m \u001b[39mself\u001b[39m\u001b[39m.\u001b[39m_validate_key(key, axis)\n\u001b[1;32m   1271\u001b[0m \u001b[39m# A collection of keys\u001b[39;00m\n\u001b[0;32m-> 1272\u001b[0m keyarr, indexer \u001b[39m=\u001b[39m \u001b[39mself\u001b[39;49m\u001b[39m.\u001b[39;49m_get_listlike_indexer(key, axis)\n\u001b[1;32m   1273\u001b[0m \u001b[39mreturn\u001b[39;00m \u001b[39mself\u001b[39m\u001b[39m.\u001b[39mobj\u001b[39m.\u001b[39m_reindex_with_indexers(\n\u001b[1;32m   1274\u001b[0m     {axis: [keyarr, indexer]}, copy\u001b[39m=\u001b[39m\u001b[39mTrue\u001b[39;00m, allow_dups\u001b[39m=\u001b[39m\u001b[39mTrue\u001b[39;00m\n\u001b[1;32m   1275\u001b[0m )\n",
      "File \u001b[0;32m~/miniconda3/envs/distance/lib/python3.9/site-packages/pandas/core/indexing.py:1462\u001b[0m, in \u001b[0;36m_LocIndexer._get_listlike_indexer\u001b[0;34m(self, key, axis)\u001b[0m\n\u001b[1;32m   1459\u001b[0m ax \u001b[39m=\u001b[39m \u001b[39mself\u001b[39m\u001b[39m.\u001b[39mobj\u001b[39m.\u001b[39m_get_axis(axis)\n\u001b[1;32m   1460\u001b[0m axis_name \u001b[39m=\u001b[39m \u001b[39mself\u001b[39m\u001b[39m.\u001b[39mobj\u001b[39m.\u001b[39m_get_axis_name(axis)\n\u001b[0;32m-> 1462\u001b[0m keyarr, indexer \u001b[39m=\u001b[39m ax\u001b[39m.\u001b[39;49m_get_indexer_strict(key, axis_name)\n\u001b[1;32m   1464\u001b[0m \u001b[39mreturn\u001b[39;00m keyarr, indexer\n",
      "File \u001b[0;32m~/miniconda3/envs/distance/lib/python3.9/site-packages/pandas/core/indexes/base.py:5876\u001b[0m, in \u001b[0;36mIndex._get_indexer_strict\u001b[0;34m(self, key, axis_name)\u001b[0m\n\u001b[1;32m   5873\u001b[0m \u001b[39melse\u001b[39;00m:\n\u001b[1;32m   5874\u001b[0m     keyarr, indexer, new_indexer \u001b[39m=\u001b[39m \u001b[39mself\u001b[39m\u001b[39m.\u001b[39m_reindex_non_unique(keyarr)\n\u001b[0;32m-> 5876\u001b[0m \u001b[39mself\u001b[39;49m\u001b[39m.\u001b[39;49m_raise_if_missing(keyarr, indexer, axis_name)\n\u001b[1;32m   5878\u001b[0m keyarr \u001b[39m=\u001b[39m \u001b[39mself\u001b[39m\u001b[39m.\u001b[39mtake(indexer)\n\u001b[1;32m   5879\u001b[0m \u001b[39mif\u001b[39;00m \u001b[39misinstance\u001b[39m(key, Index):\n\u001b[1;32m   5880\u001b[0m     \u001b[39m# GH 42790 - Preserve name from an Index\u001b[39;00m\n",
      "File \u001b[0;32m~/miniconda3/envs/distance/lib/python3.9/site-packages/pandas/core/indexes/base.py:5935\u001b[0m, in \u001b[0;36mIndex._raise_if_missing\u001b[0;34m(self, key, indexer, axis_name)\u001b[0m\n\u001b[1;32m   5933\u001b[0m     \u001b[39mif\u001b[39;00m use_interval_msg:\n\u001b[1;32m   5934\u001b[0m         key \u001b[39m=\u001b[39m \u001b[39mlist\u001b[39m(key)\n\u001b[0;32m-> 5935\u001b[0m     \u001b[39mraise\u001b[39;00m \u001b[39mKeyError\u001b[39;00m(\u001b[39mf\u001b[39m\u001b[39m\"\u001b[39m\u001b[39mNone of [\u001b[39m\u001b[39m{\u001b[39;00mkey\u001b[39m}\u001b[39;00m\u001b[39m] are in the [\u001b[39m\u001b[39m{\u001b[39;00maxis_name\u001b[39m}\u001b[39;00m\u001b[39m]\u001b[39m\u001b[39m\"\u001b[39m)\n\u001b[1;32m   5937\u001b[0m not_found \u001b[39m=\u001b[39m \u001b[39mlist\u001b[39m(ensure_index(key)[missing_mask\u001b[39m.\u001b[39mnonzero()[\u001b[39m0\u001b[39m]]\u001b[39m.\u001b[39munique())\n\u001b[1;32m   5938\u001b[0m \u001b[39mraise\u001b[39;00m \u001b[39mKeyError\u001b[39;00m(\u001b[39mf\u001b[39m\u001b[39m\"\u001b[39m\u001b[39m{\u001b[39;00mnot_found\u001b[39m}\u001b[39;00m\u001b[39m not in index\u001b[39m\u001b[39m\"\u001b[39m)\n",
      "\u001b[0;31mKeyError\u001b[0m: \"None of [Index(['x', 'y'], dtype='object')] are in the [index]\""
     ]
    }
   ],
   "source": [
    "df = X1\n",
    "X = df[[\"x\", \"y\"]].to_numpy()\n",
    "corr = np.corrcoef(X, rowvar=False)\n",
    "cov = np.cov(X, rowvar=False)\n",
    "pd.DataFrame(corr, columns=[\"X\",\"Y\"], index=[\"X\", \"Y\"])\n"
   ]
  },
  {
   "cell_type": "code",
   "execution_count": null,
   "metadata": {},
   "outputs": [],
   "source": [
    "pd.DataFrame(cov, columns=[\"X\",\"Y\"], index=[\"X\", \"Y\"])"
   ]
  },
  {
   "attachments": {},
   "cell_type": "markdown",
   "metadata": {},
   "source": [
    "As expected, we can see very large Person correlation coefficient between two variables because perason coefficient measures the linear association between variables. "
   ]
  },
  {
   "attachments": {},
   "cell_type": "markdown",
   "metadata": {},
   "source": [
    "## Outlier detection\n",
    "\n",
    "Layman definition of the outliers are the datapoints which are abnormal and does not fall in the normal data generating regime. More preciselly, outliers are rare event E which have a very low probability to happen. Mathematically speaking, they have a low probability density function $p(x)$. \n",
    "To classify the event as an outlier event we first need to define threshold parameter $\\alpha$ which is a boundery probability which defines the concept of outliers. \n",
    "Outliers are than event which satisfy the formula $p(|x| > \\alpha)$ "
   ]
  },
  {
   "cell_type": "code",
   "execution_count": 6,
   "metadata": {},
   "outputs": [
    {
     "ename": "NameError",
     "evalue": "name 'df' is not defined",
     "output_type": "error",
     "traceback": [
      "\u001b[0;31m---------------------------------------------------------------------------\u001b[0m",
      "\u001b[0;31mNameError\u001b[0m                                 Traceback (most recent call last)",
      "Cell \u001b[0;32mIn[6], line 11\u001b[0m\n\u001b[1;32m      9\u001b[0m y\u001b[39m=\u001b[39m\u001b[39m300\u001b[39m\n\u001b[1;32m     10\u001b[0m r\u001b[39m=\u001b[39m\u001b[39m10\u001b[39m\n\u001b[0;32m---> 11\u001b[0m inside_radius \u001b[39m=\u001b[39m points_inside_radius(df, x, y, r)\n\u001b[1;32m     12\u001b[0m p \u001b[39m=\u001b[39m inside_radius\u001b[39m.\u001b[39miloc[\u001b[39m0\u001b[39m]\n",
      "\u001b[0;31mNameError\u001b[0m: name 'df' is not defined"
     ]
    }
   ],
   "source": [
    "def points_inside_radius(df, x, y, radius):\n",
    "    distances = (df[\"x\"] - x)**2 + (df[\"y\"] - y)**2\n",
    "    distances = distances.apply(np.sqrt)\n",
    "    mask = distances < radius\n",
    "    inside_radius = df[mask]\n",
    "    return inside_radius\n",
    "\n",
    "x=300\n",
    "y=300\n",
    "r=10\n",
    "inside_radius = points_inside_radius(df, x, y, r)\n",
    "p = inside_radius.iloc[0]"
   ]
  },
  {
   "cell_type": "code",
   "execution_count": null,
   "metadata": {},
   "outputs": [],
   "source": [
    "_, ax = plt.subplots()\n",
    "ax = df.plot.scatter(x=\"x\", y=\"y\", title=\"X vs. Y\", ax=ax)\n",
    "\n",
    "plt.annotate('X', \n",
    "             xy=(p[\"x\"], p[\"y\"]),\n",
    "             color=\"red\", \n",
    "             fontsize=20)\n",
    "\n",
    "plt.annotate('X1', \n",
    "             xy=(p[\"x\"]+100, p[\"y\"]+100),\n",
    "             color=\"red\", \n",
    "             fontsize=15)\n",
    "\n",
    "\n",
    "plt.annotate('X2', \n",
    "             xy=(p[\"x\"]-60, p[\"y\"]+130),\n",
    "             color=\"red\", \n",
    "             fontsize=15)\n"
   ]
  },
  {
   "attachments": {},
   "cell_type": "markdown",
   "metadata": {},
   "source": [
    "Upper picture shows us the X1 and X2 points which are approximatelly equally distanced from the centre  X point. But the main difference between these two points is that one of them lays in the region which is not dense with data and thus it appears to the human eye that this point is outlier. We could check this fact by estimating the probability density function for this dataset and calculating the probability $p(x2)$ and checking that this probability is smaller then $\\alpha$ ."
   ]
  },
  {
   "attachments": {},
   "cell_type": "markdown",
   "metadata": {},
   "source": [
    "## Density estimation\n",
    "\n",
    "### Kernel Density Estimation - KDE\n",
    "KDE has two parameters:\n",
    "* Basis Function (kernel)\n",
    "* Smoothing Parameter\n",
    "\n",
    "KDE places kernel function at each data point and sums the reponses. The formula is the following: \n",
    "\n",
    "$f(x) = \\frac{1}{N} \\sum_{i=0}^{N}{K(x-x_i)}$\n",
    "\n",
    "First parameter to the KDE is choice of the kernel type. \n",
    "The kernel function should have the following properties:\n",
    "* $K(x) \\ge 0$ \n",
    "* $K(x) = K(-x)$\n",
    "* $K'(x) \\le 0$\n",
    "\n",
    "Kernel actually represents our assumption how dense the epsilion surrounding near the data point is.   \n",
    "\n",
    "Second choice which we need to make is the choice of the kernel bandwith $h$. This parameter controls the widness of the kernel function around the datapoint.  \n",
    "\n",
    "**Silverman's rule of thumb**: automatic determination of the $h$\n",
    "\n",
    "**Weighting the data**\n",
    "Adding weights to kernel responses alows us not to treat every response the same. We are introducing the   \n",
    "\n",
    "**Boundery conditions** "
   ]
  },
  {
   "cell_type": "code",
   "execution_count": null,
   "metadata": {},
   "outputs": [],
   "source": [
    "from sklearn.neighbors import KernelDensity\n",
    "kde = KernelDensity(kernel='gaussian', bandwidth=0.5).fit(X)\n",
    "np.exp(kde.score_samples(X))\n",
    "\n",
    "#sample = sample.reshape((len(sample), 1))\n",
    "#model.fit(sample)"
   ]
  },
  {
   "attachments": {},
   "cell_type": "markdown",
   "metadata": {},
   "source": [
    "Centering the dataset around the 0 by reducing the mean from the dataset."
   ]
  },
  {
   "cell_type": "code",
   "execution_count": null,
   "metadata": {},
   "outputs": [],
   "source": [
    "dim_mu = X.mean(0)\n",
    "print(dim_mu)\n",
    "centered_X = X-dim_mu\n",
    "\n",
    "_, ax = plt.subplots()\n",
    "pd.DataFrame(centered_X, columns=[\"x\", \"y\"]).plot.scatter(x=\"x\", y=\"y\", ax=ax)\n",
    "df.plot.scatter(x=\"x\", y=\"y\", ax=ax, color=\"red\")\n"
   ]
  },
  {
   "cell_type": "code",
   "execution_count": null,
   "metadata": {},
   "outputs": [],
   "source": [
    "C_ = np.linalg.inv(cov)\n",
    "decor_X = centered_X @ C_ \n",
    "\n",
    "pd.DataFrame(decor_X, columns=[\"x\", \"y\"]).plot.scatter(x=\"x\", y=\"y\")\n"
   ]
  },
  {
   "cell_type": "code",
   "execution_count": null,
   "metadata": {},
   "outputs": [],
   "source": [
    "C_ = np.linalg.inv(cov)\n",
    "decor_X = centered_X @ C_ \n",
    "result = decor_X @ centered_X.T\n",
    "result.shape\n",
    "#pd.DataFrame(result, columns=[\"x\", \"y\"]).plot.scatter(x=\"x\", y=\"y\")"
   ]
  }
 ],
 "metadata": {
  "kernelspec": {
   "display_name": "distance",
   "language": "python",
   "name": "python3"
  },
  "language_info": {
   "codemirror_mode": {
    "name": "ipython",
    "version": 3
   },
   "file_extension": ".py",
   "mimetype": "text/x-python",
   "name": "python",
   "nbconvert_exporter": "python",
   "pygments_lexer": "ipython3",
   "version": "3.9.16"
  },
  "orig_nbformat": 4
 },
 "nbformat": 4,
 "nbformat_minor": 2
}
