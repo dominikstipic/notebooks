{
 "cells": [
  {
   "cell_type": "code",
   "execution_count": null,
   "metadata": {},
   "outputs": [],
   "source": [
    "from transformers import SpeechT5Processor, SpeechT5ForTextToSpeech, SpeechT5HifiGan\n",
    "from datasets import load_dataset\n",
    "import torch\n",
    "import soundfile as sf\n",
    "from datasets import load_dataset\n",
    "import wave\n",
    "import pyaudio\n",
    "import PyPDF2"
   ]
  },
  {
   "cell_type": "code",
   "execution_count": null,
   "metadata": {},
   "outputs": [],
   "source": [
    "# Define key component\n",
    "processor = SpeechT5Processor.from_pretrained(\"microsoft/speecht5_tts\")\n",
    "model = SpeechT5ForTextToSpeech.from_pretrained(\"microsoft/speecht5_tts\")\n",
    "vocoder = SpeechT5HifiGan.from_pretrained(\"microsoft/speecht5_hifigan\")"
   ]
  },
  {
   "cell_type": "code",
   "execution_count": null,
   "metadata": {},
   "outputs": [],
   "source": [
    "def read_page(num):\n",
    "    pdf_file = open('a.pdf', 'rb')\n",
    "    pdf_reader = PyPDF2.PdfReader(pdf_file)\n",
    "    text = pdf_reader.pages[num].extract_text()\n",
    "    pdf_file.close()\n",
    "    return text\n",
    "\n",
    "def speech_vector(text):\n",
    "    inputs = processor(text=text, return_tensors=\"pt\")\n",
    "    embeddings_dataset = load_dataset(\"Matthijs/cmu-arctic-xvectors\", split=\"validation\")\n",
    "    speaker_embeddings = torch.tensor(embeddings_dataset[7306][\"xvector\"]).unsqueeze(0)\n",
    "    speech = model.generate_speech(inputs[\"input_ids\"], speaker_embeddings, vocoder=vocoder)\n",
    "    return speech\n",
    "\n",
    "def read_speech(path):\n",
    "    wav_file = wave.open(path, \"rb\")\n",
    "    p = pyaudio.PyAudio()\n",
    "    stream = p.open(format=p.get_format_from_width(wav_file.getsampwidth()),\n",
    "                    channels=wav_file.getnchannels(),\n",
    "                    rate=wav_file.getframerate(),\n",
    "                    output=True)\n",
    "    data = wav_file.readframes(1024)\n",
    "    while data:\n",
    "        stream.write(data)\n",
    "        data = wav_file.readframes(1024)\n",
    "    stream.stop_stream()\n",
    "    stream.close()\n",
    "    p.terminate()"
   ]
  },
  {
   "attachments": {},
   "cell_type": "markdown",
   "metadata": {},
   "source": [
    "# Process"
   ]
  },
  {
   "cell_type": "code",
   "execution_count": null,
   "metadata": {},
   "outputs": [],
   "source": [
    "text = read_page(15)\n",
    "print(text)\n",
    "speech = speech_vector(text[0:600])\n",
    "sf.write(\"speech.wav\", speech.numpy(), samplerate=16000)\n",
    "read_speech(\"speech.wav\")"
   ]
  },
  {
   "cell_type": "code",
   "execution_count": null,
   "metadata": {},
   "outputs": [],
   "source": [
    "text = read_page(15)\n",
    "\n",
    "N = len(text)//600\n",
    "reminder_len = len(text) - N*600\n",
    "parts = [] \n",
    "for i in range(N):\n",
    "    sample = text[i*600:(i+1)*600]\n",
    "    parts.append(sample)\n",
    "reminder = text[len(text)-reminder_len:]\n",
    "parts.append(reminder)\n",
    "\n",
    "for part in parts:\n",
    "    speech = speech_vector(part)\n",
    "    sf.write(\"speech.wav\", speech.numpy(), samplerate=16000)\n",
    "    read_speech(\"speech.wav\")"
   ]
  }
 ],
 "metadata": {
  "kernelspec": {
   "display_name": "hugging",
   "language": "python",
   "name": "python3"
  },
  "language_info": {
   "codemirror_mode": {
    "name": "ipython",
    "version": 3
   },
   "file_extension": ".py",
   "mimetype": "text/x-python",
   "name": "python",
   "nbconvert_exporter": "python",
   "pygments_lexer": "ipython3",
   "version": "3.11.3"
  },
  "orig_nbformat": 4
 },
 "nbformat": 4,
 "nbformat_minor": 2
}
