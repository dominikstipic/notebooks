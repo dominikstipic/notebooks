{
 "cells": [
  {
   "cell_type": "code",
   "execution_count": null,
   "metadata": {},
   "outputs": [],
   "source": []
  },
  {
   "attachments": {},
   "cell_type": "markdown",
   "metadata": {},
   "source": [
    "### Central bank balance sheet\n",
    "\n",
    "Assets:\n",
    " * Domestic assets: issued by the domestic government\n",
    " * Foreign assets: issued by foreign government \n",
    " \n",
    "Liabilities:\n",
    " * Currency in circulation: in the hands of the public\n",
    " * Reserves: deposits at the CB that are held by private banks\n",
    "\n",
    "M0 = Currency + Reserves\n",
    "M1 = Currency + Deposits"
   ]
  }
 ],
 "metadata": {
  "kernelspec": {
   "display_name": "monetary",
   "language": "python",
   "name": "python3"
  },
  "language_info": {
   "name": "python",
   "version": "3.11.2"
  },
  "orig_nbformat": 4
 },
 "nbformat": 4,
 "nbformat_minor": 2
}
